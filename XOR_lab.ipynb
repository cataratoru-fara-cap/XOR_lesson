{
 "cells": [
  {
   "cell_type": "markdown",
   "id": "868e30a4",
   "metadata": {},
   "source": [
    "# XOR Encryption Lab\n",
    "\n",
    "Welcome to the XOR Encryption Lab! In this lab, you will learn about XOR operations, how XOR encryption works, and how to break XOR encryption using various numerical analysis techniques. By the end of this lab, you will also solve a CTF challenge to test your understanding and cleverness."
   ]
  },
  {
   "cell_type": "markdown",
   "id": "bcfffff3",
   "metadata": {},
   "source": [
    "## 1. What is XOR?\n",
    "\n",
    "XOR (Exclusive OR) is a binary operation that outputs `1` if the inputs are different and `0` if they are the same.\n",
    "\n",
    "### Truth Table for XOR:\n",
    "```\n",
    "A | B | A XOR B\n",
    "0 | 0 |   0\n",
    "0 | 1 |   1\n",
    "1 | 0 |   1\n",
    "1 | 1 |   0\n",
    "```\n",
    "\n",
    "### Properties of XOR:\n",
    "- `A XOR 0 = A`\n",
    "- `A XOR A = 0`\n",
    "- `A XOR B XOR B = A` (used in encryption/decryption)\n"
   ]
  },
  {
   "cell_type": "markdown",
   "id": "69948621",
   "metadata": {},
   "source": [
    "\n",
    "### Exercise:\n",
    "Write a Python function to perform XOR\n",
    "<details>\n",
    "<summary style=\"color:green; font-size:small;\">Hint! (please try and ask google first on how to perform bit-wise xor in python)</summary>\n",
    "<span >Bit-wise XOR has its own operator in Python: `^`</span>\n",
    "</details>"
   ]
  },
  {
   "cell_type": "code",
   "execution_count": 2,
   "id": "56565820",
   "metadata": {},
   "outputs": [
    {
     "name": "stdout",
     "output_type": "stream",
     "text": [
      "None\n",
      "None\n"
     ]
    }
   ],
   "source": [
    "#This function takes two integers a and b, and returns their bitwise XOR.\n",
    "def xor(a, b):\n",
    "    pass\n",
    "\n",
    "print(bin(xor(0b0110, 0b1011)))\n",
    "print(xor(5, 3))  # Example: 5 XOR 3\n",
    "print(xor(ord('a'),ord('b')))\n",
    "\n"
   ]
  },
  {
   "cell_type": "markdown",
   "id": "87e86ad0",
   "metadata": {},
   "source": [
    "## 2. How Does XOR Encryption Work?\n",
    "\n",
    "XOR Encryption is an encryption method used to encrypt data and is hard to crack by brute-force method, i.e generating random encryption keys to match with the correct one. The XOR Encryption algorithm is a very effective yet easy to implement method of symmetric encryption. Due to its effectiveness and simplicity, the XOR Encryption is an extremely common component used in more complex encryption algorithms used nowadays. In cryptography, the simple XOR cipher is a type of additive cipher, an encryption algorithm that operates according to the principles of exclusive or operator.\n",
    "\n",
    "### Theory:\n",
    "- **Plaintext**: `P`\n",
    "- **Key**: `K`\n",
    "- **Ciphertext**: `C = P XOR K`\n",
    "- **Decryption**: `P = C XOR K`\n",
    "\n",
    "### Example:\n",
    "\n",
    "<img src=\"Screenshot 2025-05-13 at 01-49-32 How to break a repeating key XOR encryption.png\" alt=\"alt text\" width=\"1000\"/>\n",
    "```\n",
    "\n",
    "**Why the weird output?**  \n",
    "Before performing the XOR operation, the input is converted to its binary representation, and the operation is performed byte by byte. The result is then converted from byte form to characters (printable or non-printable)."
   ]
  },
  {
   "cell_type": "markdown",
   "id": "a78b35a1",
   "metadata": {},
   "source": [
    "\n",
    "### Exercise:\n",
    "Encrypt and decrypt a message using XOR:\n"
   ]
  },
  {
   "cell_type": "code",
   "execution_count": 1,
   "id": "10e3196a",
   "metadata": {},
   "outputs": [
    {
     "name": "stdout",
     "output_type": "stream",
     "text": [
      "Ciphertext: None\n",
      "Decrypted Text: None\n"
     ]
    }
   ],
   "source": [
    "\n",
    "def XOR_repeating(input_string: bytes, key: bytes) -> bytes:\n",
    "    #TODO 1\n",
    "    #Declare the output list\n",
    "    #TODO 2\n",
    "    #Iterate through the input string\n",
    "    # and XOR each byte with the corresponding byte in the key\n",
    "    # The key is repeated as necessary to match the length of the input string\n",
    "    #TODO 3\n",
    "    # Return the result as a bytes object\n",
    "    pass\n",
    "\n",
    "# Example usage\n",
    "plaintext = b\"HELLO\"\n",
    "key = b\"KEY\"\n",
    "ciphertext = XOR_repeating(plaintext, key)\n",
    "print(\"Ciphertext:\", ciphertext)\n",
    "\n",
    "decrypted_text = XOR_repeating(ciphertext, key)\n",
    "print(\"Decrypted Text:\", decrypted_text)"
   ]
  },
  {
   "cell_type": "markdown",
   "id": "56bffc9d",
   "metadata": {},
   "source": [
    "## 3. CTF Challenge: XOR Decryption\n",
    "### Task:\n",
    "Recover the plaintext (flag) from the `xored` list, you can use the function implemented above.\n",
    "- The flag format is `ctf{sha256}`."
   ]
  },
  {
   "cell_type": "code",
   "execution_count": null,
   "id": "1193e6bf",
   "metadata": {},
   "outputs": [],
   "source": [
    "xored = ['\\x00', '\\x00', '\\x00', '\\x18', 'C', '_', '\\x05', 'E', 'V', 'T', 'F', 'U', 'R', 'B', '_', 'U', 'G', '_', 'V', '\\x17', 'V', 'S', '@', '\\x03', '[', 'C', '\\x02', '\\x07', 'C', 'Q', 'S', 'M', '\\x02', 'P', 'M', '_', 'S', '\\x12', 'V', '\\x07', 'B', 'V', 'Q', '\\x15', 'S', 'T', '\\x11', '_', '\\x05', 'A', 'P', '\\x02', '\\x17', 'R', 'Q', 'L', '\\x04', 'P', 'E', 'W', 'P', 'L', '\\x04', '\\x07', '\\x15', 'T', 'V', 'L', '\\x1b']\n",
    "s1 = \"\"\n",
    "s2 = \"\"\n",
    "# ['\\x00', '\\x00', '\\x00'] at start of xored is the best hint you get!\n",
    "print(s2)\n"
   ]
  },
  {
   "cell_type": "markdown",
   "id": "6b30e10c",
   "metadata": {},
   "source": [
    "## 4. Breaking XOR encyption using numerical analysis\n",
    "### Methodology\n",
    "\n",
    "We'll assume that the text is written in English, and will use letter frequency to break the XOR encryption.\n",
    "To crack repeating key XOR encryption, we must understand how breaking a single byte key XOR encryption works.\n",
    "\n",
    "### A. How to break a single byte key xor encryption\n",
    "<img src=\"Screenshot 2025-05-13 at 01-56-36 How to break a single byte key XOR encryption-1.png\" alt=\"alt text\" width=\"800\"/>\n"
   ]
  },
  {
   "cell_type": "markdown",
   "id": "ffc0949e",
   "metadata": {},
   "source": [
    "### Step 1\n",
    "Since the key is one byte in length, it can be represented in 256 possibilities $2^8$.Therefore, brute force is an efficient and easy method to use here.\n",
    "\n"
   ]
  },
  {
   "cell_type": "code",
   "execution_count": null,
   "id": "e78df64a",
   "metadata": {},
   "outputs": [],
   "source": [
    "ciphertext = b'Y\\x15/\\x0e2\\x03-\\x0f*\\x032\\x0f4\\x11/\\x08#\\x0e1\\x1f(\\x083\\x002\\x0f5\\x0f'"
   ]
  },
  {
   "cell_type": "markdown",
   "id": "f7de2cb0",
   "metadata": {},
   "source": [
    "### Step 2\n",
    "\n",
    "XOR each key with the cipher text to generate a decrypted text. In simpler words, \n",
    "XOR the ciphertext and with every possible byte.\n",
    "The resulting binary is then converted to English using ASCII values for every 8 bits, \n",
    "assuming the text is written in the English language."
   ]
  },
  {
   "cell_type": "code",
   "execution_count": null,
   "id": "9715c2ee",
   "metadata": {},
   "outputs": [
    {
     "name": "stdout",
     "output_type": "stream",
     "text": [
      "('a', b'8tNoSbLnKbSnUpNiBoP~IiRaSnTn')\n",
      "('b', b';wMlPaOmHaPmVsMjAlS}JjQbPmWm')\n",
      "('c', b':vLmQ`NlI`QlWrLk@mR|KkPcQlVl')\n",
      "('d', b'=qKjVgIkNgVkPuKlGjU{LlWdVkQk')\n",
      "('e', b'<pJkWfHjOfWjQtJmFkTzMmVeWjPj')\n",
      "('f', b'?sIhTeKiLeTiRwInEhWyNnUfTiSi')\n",
      "('g', b'>rHiUdJhMdUhSvHoDiVxOoTgUhRh')\n",
      "('h', b'1}GfZkEgBkZg\\\\yG`KfYw@`[hZg]g')\n",
      "('i', b'0|Fg[jDfCj[f]xFaJgXvAaZi[f\\\\f')\n",
      "('k', b'2~DeYhFdAhYd_zDcHeZtCcXkYd^d')\n",
      "('l', b'5yCb^oAcFo^cX}CdOb]sDd_l^cYc')\n",
      "('m', b'4xBc_n@bGn_bY|BeNc\\\\rEe^m_bXb')\n",
      "('o', b'6z@a]lB`El]`[~@gLa^pGg\\\\o]`Z`')\n",
      "('r', b'+g]|@q_}Xq@}Fc]zQ|CmZzAr@}G}')\n",
      "('s', b'*f\\\\}Ap^|YpA|Gb\\\\{P}Bl[{@sA|F|')\n",
      "('t', b'-a[zFwY{^wF{@e[|WzEk\\\\|GtF{A{')\n",
      "('u', b',`Z{GvXz_vGzAdZ}V{Dj]}FuGz@z')\n",
      "('v', b'/cYxDu[y\\\\uDyBgY~UxGi^~EvDyCy')\n",
      "('x', b'!mWvJ{UwR{JwLiWp[vIgPpKxJwMw')\n",
      "('y', b' lVwKzTvSzKvMhVqZwHfQqJyKvLv')\n",
      "('z', b'#oUtHyWuPyHuNkUrYtKeRrIzHuOu')\n",
      "('{', b'\"nTuIxVtQxItOjTsXuJdSsH{ItNt')\n",
      "('}', b'$hRsO~PrW~OrIlRu^sLbUuN}OrHr')\n",
      "('~', b\"'kQpL}SqT}LqJoQv]pOaVvM~LqKq\")\n"
     ]
    }
   ],
   "source": [
    "def break_one_byte_xor(ciphertext):\n",
    "    # create a dictionary to store all decrypted texts\n",
    "\n",
    "    # TODO 1: use a for loop or a range to generate all the 256 keys and store them in a bytearray.\n",
    "\n",
    "    # TODO 2: use a for loop to iterate through all the possible keys\n",
    "\n",
    "        # TODO 3: Convert the key to bytes in order to avoid issues with XORing\n",
    "        # with integers and bytes\n",
    "\n",
    "        # TODO 4: XOR the key with the ciphertext\n",
    "\n",
    "        # TODO 5: Check if the decrypted text contains only printable characters HINT! 32 <= b < 127\n",
    "\n",
    "            #TODO 6: append the decrypted text, key-pair to the dictionary\n",
    "\n",
    "    # TODO 7: return the dictionary containing all decrypted texts and their keys\n",
    "    pass\n",
    "\n",
    "# TODO 8: Calculate each key and its corresponding decrypted text and store them in valid_decrypts\n",
    "\n",
    "# TODO 9: print the decrypted texts and their keys\n",
    "for key, value in valid_decrypts.items():\n",
    "    pass"
   ]
  },
  {
   "cell_type": "markdown",
   "id": "cad1cb2d",
   "metadata": {},
   "source": [
    "Dangnabbit, looks like the text was obfuscated a bit, this is the moment when we introduce letter scoring. Scoring is basically comparing the output to what we expect the output to look like, and is a very important concept in developing what are formally called heuristics; educated guesses/solutions to a problem.\n",
    "\n",
    "In English, certain letters are significantly more common than any others. 'e' is often quoted as the most frequent letter in English text. A frequency table(or map) of letters allows you to check if a string is likely to be English. In other words, to score any guesses you have when you decrypt the string. For now, we will not be building said map, but addopting one from the internet. https://en.wikipedia.org/wiki/Letter_frequency \n",
    "\n",
    "Decrypted text with the highest English score is the original deciphered text, and the key used to generate it is the actual key used in the encryption process earlier."
   ]
  },
  {
   "cell_type": "code",
   "execution_count": null,
   "id": "39c111d9",
   "metadata": {},
   "outputs": [
    {
     "name": "stdout",
     "output_type": "stream",
     "text": [
      " Key: a, Decrypted Text: b'8tNoSbLnKbSnUpNiBoP~IiRaSnTn', Score: 143.54\n",
      " Key: b, Decrypted Text: b';wMlPaOmHaPmVsMjAlS}JjQbPmWm', Score: 86.77\n",
      " Key: c, Decrypted Text: b':vLmQ`NlI`QlWrLk@mR|KkPcQlVl', Score: 66.28\n",
      " Key: d, Decrypted Text: b'=qKjVgIkNgVkPuKlGjU{LlWdVkQk', Score: 53.95\n",
      " Key: e, Decrypted Text: b'<pJkWfHjOfWjQtJmFkTzMmVeWjPj', Score: 72.86\n",
      " Key: f, Decrypted Text: b'?sIhTeKiLeTiRwInEhWyNnUfTiSi', Score: 174.62\n",
      " Key: g, Decrypted Text: b'>rHiUdJhMdUhSvHoDiVxOoTgUhRh', Score: 128.09\n",
      " Key: h, Decrypted Text: b'1}GfZkEgBkZg\\\\yG`KfYw@`[hZg]g', Score: 45.68\n",
      " Key: i, Decrypted Text: b'0|Fg[jDfCj[f]xFaJgXvAaZi[f\\\\f', Score: 57.71\n",
      " Key: k, Decrypted Text: b'2~DeYhFdAhYd_zDcHeZtCcXkYd^d', Score: 103.99\n",
      " Key: l, Decrypted Text: b'5yCb^oAcFo^cX}CdOb]sDd_l^cYc', Score: 79.80\n",
      " Key: m, Decrypted Text: b'4xBc_n@bGn_bY|BeNc\\\\rEe^m_bXb', Score: 85.55\n",
      " Key: o, Decrypted Text: b'6z@a]lB`El]`[~@gLa^pGg\\\\o]`Z`', Score: 58.23\n",
      " Key: r, Decrypted Text: b'+g]|@q_}Xq@}Fc]zQ|CmZzAr@}G}', Score: 29.04\n",
      " Key: s, Decrypted Text: b'*f\\\\}Ap^|YpA|Gb\\\\{P}Bl[{@sA|F|', Score: 52.07\n",
      " Key: t, Decrypted Text: b'-a[zFwY{^wF{@e[|WzEk\\\\|GtF{A{', Score: 69.47\n",
      " Key: u, Decrypted Text: b',`Z{GvXz_vGzAdZ}V{Dj]}FuGz@z', Score: 31.39\n",
      " Key: v, Decrypted Text: b'/cYxDu[y\\\\uDyBgY~UxGi^~EvDyCy', Score: 64.91\n",
      " Key: x, Decrypted Text: b'!mWvJ{UwR{JwLiWp[vIgPpKxJwMw', Score: 56.81\n",
      " Key: y, Decrypted Text: b' lVwKzTvSzKvMhVqZwHfQqJyKvLv', Score: 70.79\n",
      " Key: z, Decrypted Text: b'#oUtHyWuPyHuNkUrYtKeRrIzHuOu', Score: 124.16\n",
      " Key: {, Decrypted Text: b'\"nTuIxVtQxItOjTsXuJdSsH{ItNt', Score: 132.91\n",
      " Key: }, Decrypted Text: b'$hRsO~PrW~OrIlRu^sLbUuN}OrHr', Score: 119.10\n",
      " Key: ~, Decrypted Text: b\"'kQpL}SqT}LqJoQv]pOaVvM~LqKq\", Score: 62.10\n"
     ]
    }
   ],
   "source": [
    "letterScores = [8.167, 1.492, 2.782,4.253, 12.702, 2.228, 2.015, 6.094, 6.966, 0.153, 0.772, 4.025, 2.406, 6.749, 7.507,1.929, 0.095, 5.987, 6.327, 9.056, 2.758, 0.978, 2.360, 0.150, 1.974, 0.074 ]\n",
    "# index position 0 = a, 1 = b, 2 = c, etc.\n",
    "# TODO 7: Create a function to calculate the score of a strin\n",
    "def calculateScore(string):\n",
    "    # TODO 8: make sure the string is lowercase, and set the score to 0\n",
    "\n",
    "    # TODO 9: Iterate through the string and calculate the score, check if the character is a letter or space\n",
    "    # If the character is a letter, add its score to the total score\n",
    "    # If the character is a space, add 15 to the score \n",
    "    # HINT! (you can subtract the value of 'a' in ASCII from  \n",
    "    # value of the letter to get the index position of it's score)\n",
    "\n",
    "\n",
    "\n",
    "\n",
    "\n",
    "\n",
    "    # TODO 10: Return the score\n",
    "    pass\n",
    "\n",
    "# TODO 11: Call the function to calculate the score of each decrypted text \n",
    "for key, text in valid_decrypts.items():\n",
    "    # TODO 11: Calculate the score of the decrypted text, make sure to decode it to a string first\n",
    "\n",
    "    # TODO 12: Print the decrypted text and its score\n",
    "    \n",
    "    pass"
   ]
  },
  {
   "cell_type": "markdown",
   "id": "789152cd",
   "metadata": {},
   "source": [
    "### Summary\n",
    "Breaking a repeating key XOR encryption involves:\n",
    "1. Determining the key length using Hamming distance.\n",
    "2. Recovering the key by analyzing transposed blocks.\n",
    "3. Decrypting the ciphertext using the recovered key.\n",
    "\n",
    "#### Key Insights:\n",
    "- XOR encryption is highly vulnerable when the key is reused or too short.\n",
    "- The Hamming distance provides a reliable method for identifying the key length.\n",
    "- Transposing ciphertext blocks simplifies the process of recovering the key.\n",
    "\n",
    "This process demonstrates the importance of using strong, non-repeating keys in cryptography."
   ]
  },
  {
   "cell_type": "markdown",
   "id": "36cdf6d7",
   "metadata": {},
   "source": [
    "## Wrap-Up\n",
    "\n",
    "In this lab, you learned:\n",
    "- The basics of XOR and its properties.\n",
    "- How XOR encryption works.\n",
    "- How to solve a CTF challenge using XOR decryption.\n",
    "- Techniques to break XOR encryption using frequency analysis and Hamming distance.\n",
    "\n",
    "Explore more about cryptography and CTF challenges to deepen your understanding!"
   ]
  }
 ],
 "metadata": {
  "kernelspec": {
   "display_name": "XOR_lesson",
   "language": "python",
   "name": "python3"
  },
  "language_info": {
   "codemirror_mode": {
    "name": "ipython",
    "version": 3
   },
   "file_extension": ".py",
   "mimetype": "text/x-python",
   "name": "python",
   "nbconvert_exporter": "python",
   "pygments_lexer": "ipython3",
   "version": "3.13.3"
  }
 },
 "nbformat": 4,
 "nbformat_minor": 5
}
